{
  "nbformat": 4,
  "nbformat_minor": 0,
  "metadata": {
    "colab": {
      "provenance": []
    },
    "kernelspec": {
      "name": "python3",
      "display_name": "Python 3"
    },
    "language_info": {
      "name": "python"
    }
  },
  "cells": [
    {
      "cell_type": "markdown",
      "source": [
        "1. Utwórz pusty słownik, a następnie dodaj do niego kilka par klucz-wartość."
      ],
      "metadata": {
        "id": "bN3cjcujbu4g"
      }
    },
    {
      "cell_type": "code",
      "execution_count": null,
      "metadata": {
        "colab": {
          "base_uri": "https://localhost:8080/"
        },
        "id": "a7kvkOMubdV_",
        "outputId": "4e993b41-403a-4869-ec94-b6bef0bb8083"
      },
      "outputs": [
        {
          "output_type": "stream",
          "name": "stdout",
          "text": [
            "{'wędkarz': 'Marek', 'inżynier': 'Stefan', 'rolnik': 'Jakub'}\n"
          ]
        }
      ],
      "source": [
        "slownik = {'wędkarz':'Marek', 'inżynier':'Stefan', 'rolnik': 'Jakub'}\n",
        "print(slownik)"
      ]
    },
    {
      "cell_type": "markdown",
      "source": [
        "2. Utwórz słownik z przynajmniej trzema kluczami: jeden klucz to liczba, drugi to napis, trzeci to krotka.\n"
      ],
      "metadata": {
        "id": "Z9899glMdE_P"
      }
    },
    {
      "cell_type": "code",
      "source": [
        "slownik = {'klucz1':'123', 'klucz2': 'lalala', 'klucz3':'[]' }\n",
        "print(slownik)"
      ],
      "metadata": {
        "colab": {
          "base_uri": "https://localhost:8080/"
        },
        "id": "IlFrV7eAdGrv",
        "outputId": "227f416b-de74-4373-8b25-27fbf080d43d"
      },
      "execution_count": null,
      "outputs": [
        {
          "output_type": "stream",
          "name": "stdout",
          "text": [
            "{'klucz1': '123', 'klucz2': 'lalala', 'klucz3': '[]'}\n"
          ]
        }
      ]
    },
    {
      "cell_type": "markdown",
      "source": [
        "3. Skorzystaj z funkcji `dict()` do utworzenia słownika z trzema kluczami."
      ],
      "metadata": {
        "id": "aUn6nOA-dzHH"
      }
    },
    {
      "cell_type": "code",
      "source": [
        "slownik = dict(pies='Marek', kot='Zosia', ptak= 'Basia')\n",
        "print(slownik)"
      ],
      "metadata": {
        "colab": {
          "base_uri": "https://localhost:8080/"
        },
        "id": "KH2XtTqEd0I3",
        "outputId": "e3abae1f-649b-4095-da37-4854ac9a5369"
      },
      "execution_count": null,
      "outputs": [
        {
          "output_type": "stream",
          "name": "stdout",
          "text": [
            "{'pies': 'Marek', 'kot': 'Zosia', 'ptak': 'Basia'}\n"
          ]
        }
      ]
    },
    {
      "cell_type": "markdown",
      "source": [
        "1. Usuń jeden element ze słownika za pomocą `del`.\n"
      ],
      "metadata": {
        "id": "PoaG3qTHelq_"
      }
    },
    {
      "cell_type": "code",
      "source": [
        "slownik = {'klucz1':'123', 'klucz2': 'lalala', 'klucz3':'[]' }\n",
        "del slownik['klucz1']\n",
        "print(slownik)"
      ],
      "metadata": {
        "colab": {
          "base_uri": "https://localhost:8080/"
        },
        "id": "ojZkJr7CepUf",
        "outputId": "64685b34-ae42-4373-c0f8-9cddff9e0dbb"
      },
      "execution_count": null,
      "outputs": [
        {
          "output_type": "stream",
          "name": "stdout",
          "text": [
            "{'klucz2': 'lalala', 'klucz3': '[]'}\n"
          ]
        }
      ]
    },
    {
      "cell_type": "markdown",
      "source": [
        "2. Skorzystaj z metody `pop()`, aby usunąć element i zapisać jego wartość do zmiennej.\n"
      ],
      "metadata": {
        "id": "HBS9RbjpfNfo"
      }
    },
    {
      "cell_type": "code",
      "source": [
        "slownik = {'klucz1':'123', 'klucz2': 'lalala', 'klucz3':'[]' }\n",
        "wartosc= slownik.pop('klucz1')\n",
        "print(slownik)\n",
        "print(wartosc)"
      ],
      "metadata": {
        "colab": {
          "base_uri": "https://localhost:8080/"
        },
        "id": "Wx77mGmDfPIP",
        "outputId": "408c8f0b-145a-4533-c71e-e18b3813da84"
      },
      "execution_count": null,
      "outputs": [
        {
          "output_type": "stream",
          "name": "stdout",
          "text": [
            "{'klucz2': 'lalala', 'klucz3': '[]'}\n",
            "123\n"
          ]
        }
      ]
    },
    {
      "cell_type": "markdown",
      "source": [
        "3. Wyczyść cały słownik za pomocą `clear()`.\n"
      ],
      "metadata": {
        "id": "pAVFuqqmgJun"
      }
    },
    {
      "cell_type": "code",
      "source": [
        "slownik = {'klucz1':'123', 'klucz2': 'lalala', 'klucz3':'[]' }\n",
        "slownik.clear()\n",
        "print(slownik)"
      ],
      "metadata": {
        "colab": {
          "base_uri": "https://localhost:8080/"
        },
        "id": "BubcBIIMgND_",
        "outputId": "5d9e5271-e506-475e-9819-7cd24a1fbe56"
      },
      "execution_count": null,
      "outputs": [
        {
          "output_type": "stream",
          "name": "stdout",
          "text": [
            "{}\n"
          ]
        }
      ]
    },
    {
      "cell_type": "markdown",
      "source": [
        "1. Skorzystaj z metody `keys()`, aby uzyskać wszystkie klucze słownika.\n"
      ],
      "metadata": {
        "id": "033mGy4MgWlG"
      }
    },
    {
      "cell_type": "code",
      "source": [
        "slownik = {'klucz1': '123', 'klucz2': 'lalala'}\n",
        "klucze = slownik.keys()\n",
        "print(klucze)"
      ],
      "metadata": {
        "colab": {
          "base_uri": "https://localhost:8080/"
        },
        "id": "9e9seYvtggA-",
        "outputId": "4e53a9de-71df-450d-a668-242944ed8f50"
      },
      "execution_count": null,
      "outputs": [
        {
          "output_type": "stream",
          "name": "stdout",
          "text": [
            "dict_keys(['klucz1', 'klucz2'])\n"
          ]
        }
      ]
    },
    {
      "cell_type": "markdown",
      "source": [
        "2. Skorzystaj z metody `values()`, aby wyświetlić wszystkie wartości słownika.\n"
      ],
      "metadata": {
        "id": "HiPlY1ZCgchO"
      }
    },
    {
      "cell_type": "code",
      "source": [
        "slownik = {'klucz1': '123', 'klucz2': 'lalala'}\n",
        "wartosci= slownik.values()\n",
        "print(wartosci)"
      ],
      "metadata": {
        "colab": {
          "base_uri": "https://localhost:8080/"
        },
        "id": "NxZacWXuhB7O",
        "outputId": "f335d6e3-c00a-4f42-9a60-0d0514f3ecb3"
      },
      "execution_count": null,
      "outputs": [
        {
          "output_type": "stream",
          "name": "stdout",
          "text": [
            "dict_values(['123', 'lalala'])\n"
          ]
        }
      ]
    },
    {
      "cell_type": "markdown",
      "source": [
        "3. Użyj metody `items()`, aby wyświetlić wszystkie pary klucz-wartość.\n"
      ],
      "metadata": {
        "id": "pOXalH5Mgdzu"
      }
    },
    {
      "cell_type": "code",
      "source": [
        "slownik = {'klucz1': '123', 'klucz2': 'lalala'}\n",
        "pary= slownik.items()\n",
        "print(pary)"
      ],
      "metadata": {
        "colab": {
          "base_uri": "https://localhost:8080/"
        },
        "id": "iZZwZi-zhBHO",
        "outputId": "c91940f1-2456-4422-92eb-dabbc326f3da"
      },
      "execution_count": null,
      "outputs": [
        {
          "output_type": "stream",
          "name": "stdout",
          "text": [
            "dict_items([('klucz1', '123'), ('klucz2', 'lalala')])\n"
          ]
        }
      ]
    },
    {
      "cell_type": "markdown",
      "source": [
        "1. Zaktualizuj słownik za pomocą innego słownika.\n"
      ],
      "metadata": {
        "id": "OAp2-XFphfs0"
      }
    },
    {
      "cell_type": "code",
      "source": [
        "slownik= {'klucz1': '123'}\n",
        "slownik.update({'klucz2': 'lalala'})\n",
        "print(slownik)"
      ],
      "metadata": {
        "colab": {
          "base_uri": "https://localhost:8080/"
        },
        "id": "Cr_a12Dehm1m",
        "outputId": "70e73430-6f50-4f41-a895-1248f972bfb5"
      },
      "execution_count": null,
      "outputs": [
        {
          "output_type": "stream",
          "name": "stdout",
          "text": [
            "{'klucz1': '123', 'klucz2': 'lalala'}\n"
          ]
        }
      ]
    },
    {
      "cell_type": "markdown",
      "source": [
        "2. Skorzystaj z listy krotek, aby dodać nowe pary klucz-wartość do istniejącego słownika.\n"
      ],
      "metadata": {
        "id": "HMWXSTfihhrU"
      }
    },
    {
      "cell_type": "code",
      "source": [
        "slownik = {'wędkarz':'Marek', 'inżynier':'Stefan', 'rolnik': 'Jakub'}\n",
        "slownik.update([('wędkarz','Marek'), ('inżynier','Stefan'), ('rolnik','Marian'), ('ksiądz','Baltazar')])\n",
        "print(slownik)"
      ],
      "metadata": {
        "colab": {
          "base_uri": "https://localhost:8080/"
        },
        "id": "aDopZtEThnXW",
        "outputId": "0be91b5b-964f-44ec-ed4c-d40a33d25c38"
      },
      "execution_count": null,
      "outputs": [
        {
          "output_type": "stream",
          "name": "stdout",
          "text": [
            "{'wędkarz': 'Marek', 'inżynier': 'Stefan', 'rolnik': 'Marian', 'ksiądz': 'Baltazar'}\n"
          ]
        }
      ]
    },
    {
      "cell_type": "markdown",
      "source": [
        "3. Nadpisz wartość istniejącego klucza za pomocą metody `update()`.\n"
      ],
      "metadata": {
        "id": "HsEvtb-zhj9M"
      }
    },
    {
      "cell_type": "code",
      "source": [
        "slownik = {'wędkarz':'Marek', 'inżynier':'Stefan', 'rolnik': 'Jakub'}\n",
        "slownik.update({'inżynier': 'Salomon'})\n",
        "print(slownik)"
      ],
      "metadata": {
        "colab": {
          "base_uri": "https://localhost:8080/"
        },
        "id": "9Jc7Pmnzhn5m",
        "outputId": "93fcbff5-5f4a-4ab6-8c90-acbdacf7c832"
      },
      "execution_count": null,
      "outputs": [
        {
          "output_type": "stream",
          "name": "stdout",
          "text": [
            "{'wędkarz': 'Marek', 'inżynier': 'Salomon', 'rolnik': 'Jakub'}\n"
          ]
        }
      ]
    },
    {
      "cell_type": "markdown",
      "source": [
        "1. Skorzystaj z metody `get()`, aby uzyskać wartość istniejącego klucza.\n"
      ],
      "metadata": {
        "id": "2GqQqgLTj51W"
      }
    },
    {
      "cell_type": "code",
      "source": [
        "slownik = {'wędkarz':'Marek', 'inżynier':'Stefan', 'rolnik': 'Jakub'}\n",
        "wartosc = slownik.get('wędkarz')\n",
        "print(wartosc)"
      ],
      "metadata": {
        "colab": {
          "base_uri": "https://localhost:8080/"
        },
        "id": "a_qkGx94kGwO",
        "outputId": "44fe694d-4a01-49fb-a40b-e28c342cd9b5"
      },
      "execution_count": null,
      "outputs": [
        {
          "output_type": "stream",
          "name": "stdout",
          "text": [
            "Marek\n"
          ]
        }
      ]
    },
    {
      "cell_type": "markdown",
      "source": [
        "2. Skorzystaj z metody `get()`, aby uzyskać wartość nieistniejącego klucza i zwrócić wartość domyślną.\n"
      ],
      "metadata": {
        "id": "Yw5sugJjj7IG"
      }
    },
    {
      "cell_type": "code",
      "source": [
        "slownik = {'wędkarz':'Marek', 'inżynier':'Stefan', 'rolnik': 'Jakub'}\n",
        "wartosc= slownik.get('karambol')\n",
        "print(wartosc)"
      ],
      "metadata": {
        "colab": {
          "base_uri": "https://localhost:8080/"
        },
        "id": "iGqRbBIlkDNe",
        "outputId": "16294089-549f-439e-85f7-895570d1480b"
      },
      "execution_count": null,
      "outputs": [
        {
          "output_type": "stream",
          "name": "stdout",
          "text": [
            "None\n"
          ]
        }
      ]
    },
    {
      "cell_type": "markdown",
      "source": [
        "3. Porównaj zachowanie metody `get()` z użyciem operatora `[]` w przypadku próby uzyskania wartości dla nieistniejącego klucza."
      ],
      "metadata": {
        "id": "pritXb1oj8f2"
      }
    },
    {
      "cell_type": "code",
      "source": [
        "slownik= {'wędkarz': 'Marek'}\n",
        "try:\n",
        "    wartosc = slownik['karambol']\n",
        "except KeyError:\n",
        "    print(\"Klucz 'karambol' nie istnieje - użycie operatora []\")\n",
        "wartosc = slownik.get('karambol', 'domyślna wartość')\n",
        "print(wartosc)"
      ],
      "metadata": {
        "colab": {
          "base_uri": "https://localhost:8080/"
        },
        "id": "IMbKzgvHkDsG",
        "outputId": "9f1b9031-cd83-4dbb-c7d7-6cc73f3b4eb9"
      },
      "execution_count": null,
      "outputs": [
        {
          "output_type": "stream",
          "name": "stdout",
          "text": [
            "Klucz 'karambol' nie istnieje - użycie operatora []\n",
            "domyślna wartość\n"
          ]
        }
      ]
    },
    {
      "cell_type": "markdown",
      "source": [
        "**Ćwiczenie 1**: Zliczanie wystąpień elementów\n",
        "\n",
        "Napisz program, który zliczy, ile razy każdy element pojawia się w podanej liście."
      ],
      "metadata": {
        "id": "hcXeH92YoVMl"
      }
    },
    {
      "cell_type": "code",
      "source": [
        "lista= ['c', 'd', '2', 'f', '9']\n",
        "zliczenia = {}\n",
        "for element in lista:\n",
        "    if element in zliczenia:\n",
        "        zliczenia[element] += 1\n",
        "    else:\n",
        "        zliczenia[element] = 1\n",
        "print(zliczenia)"
      ],
      "metadata": {
        "colab": {
          "base_uri": "https://localhost:8080/"
        },
        "id": "7Xor8jjcoi1d",
        "outputId": "4755d81b-9846-47da-bfc1-6b89dbc1a3e9"
      },
      "execution_count": null,
      "outputs": [
        {
          "output_type": "stream",
          "name": "stdout",
          "text": [
            "{'c': 1, 'd': 1, '2': 1, 'f': 1, '9': 1}\n"
          ]
        }
      ]
    },
    {
      "cell_type": "markdown",
      "source": [
        "**Ćwiczenie 2**: Odwrócenie słownika\n",
        "\n",
        "Napisz program, który odwraca klucze i wartości w słowniku (zakładając, że wartości są unikalne)."
      ],
      "metadata": {
        "id": "lpw6mJ1Aobet"
      }
    },
    {
      "cell_type": "code",
      "source": [
        "slownik = {'wędkarz':'Marek', 'inżynier':'Stefan', 'rolnik': 'Jakub'}\n",
        "odwrocony_slownik = {wartosc: klucz for klucz, wartosc in slownik.items()}\n",
        "print(odwrocony_slownik)"
      ],
      "metadata": {
        "colab": {
          "base_uri": "https://localhost:8080/"
        },
        "id": "ubYNQ5XfojSl",
        "outputId": "b2c49ece-1892-433f-bc1c-998939a450ec"
      },
      "execution_count": null,
      "outputs": [
        {
          "output_type": "stream",
          "name": "stdout",
          "text": [
            "{'Marek': 'wędkarz', 'Stefan': 'inżynier', 'Jakub': 'rolnik'}\n"
          ]
        }
      ]
    },
    {
      "cell_type": "markdown",
      "source": [
        "**Ćwiczenie 3**: Łączenie dwóch słowników\n",
        "\n",
        "Napisz program, który łączy dwa słowniki. Jeśli klucz jest obecny w obu słownikach, wartości powinny zostać zsumowane (zakładając, że są typu liczbowego)."
      ],
      "metadata": {
        "id": "sZFoPZKqoesF"
      }
    },
    {
      "cell_type": "code",
      "source": [
        "slownik1= {'a':4, 'b':8, 'c':16}\n",
        "slownik2= {'b':6, 'c':10, 'd':18}\n",
        "polaczony_slownik = slownik1.copy()\n",
        "for klucz, wartosc in slownik2.items():\n",
        "    if klucz in polaczony_slownik:\n",
        "        polaczony_slownik[klucz] += wartosc\n",
        "    else:\n",
        "        polaczony_slownik[klucz] = wartosc\n",
        "print(polaczony_slownik)"
      ],
      "metadata": {
        "colab": {
          "base_uri": "https://localhost:8080/"
        },
        "id": "U9Gj4GUmpUk9",
        "outputId": "a4197dee-b69d-45c4-98d1-55174fa5f656"
      },
      "execution_count": null,
      "outputs": [
        {
          "output_type": "stream",
          "name": "stdout",
          "text": [
            "{'a': 4, 'b': 14, 'c': 26, 'd': 18}\n"
          ]
        }
      ]
    }
  ]
}